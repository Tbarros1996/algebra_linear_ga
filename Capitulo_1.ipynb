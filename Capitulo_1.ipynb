{
  "metadata": {
    "language_info": {
      "codemirror_mode": {
        "name": "python",
        "version": 3
      },
      "file_extension": ".py",
      "mimetype": "text/x-python",
      "name": "python",
      "nbconvert_exporter": "python",
      "pygments_lexer": "ipython3",
      "version": "3.8"
    },
    "kernelspec": {
      "name": "python",
      "display_name": "Python (Pyodide)",
      "language": "python"
    }
  },
  "nbformat_minor": 4,
  "nbformat": 4,
  "cells": [
    {
      "cell_type": "markdown",
      "source": "                                        PROGRAMAÇÃO CIENTÍFICA\n                                     \n                                       ÁLGEBRA LINEAR COM PYTHON\n                                       \n                                 PROJETO DESENVOLVIDO POR THIAGO BARROS",
      "metadata": {}
    },
    {
      "cell_type": "markdown",
      "source": "Baseada na Bibliografia do Álgebra Linear - Alfredo Steinbruch e do Paulo Winterle\n\ne utilizando o módulo de álgebra linear, [**Numpy**](https://numpy.org/doc/stable/index.html)",
      "metadata": {}
    },
    {
      "cell_type": "code",
      "source": "import numpy as np",
      "metadata": {
        "trusted": true
      },
      "execution_count": 2,
      "outputs": []
    },
    {
      "cell_type": "markdown",
      "source": "1° - Parte - Matrizes",
      "metadata": {}
    },
    {
      "cell_type": "markdown",
      "source": "$$\n\\begin{bmatrix}\na_{11} & a_{12} & a_{13}\\\\\na_{21} & a_{22} & a_{23}\n\\end{bmatrix}\n$$",
      "metadata": {}
    },
    {
      "cell_type": "markdown",
      "source": "**Matriz** é um conjunto bidimensional de elementos organizados em linhas e colunas. Uma Matriz porde conter\n$m$ linhas e $n$ colunas.\n\nUm elemento de uma matriz é definido com o posicionamento $a_{ij}$ onde o $i$ é a representação da linha que está\no elemento e $j$ é a coluna que o mesmo se encontra.\n",
      "metadata": {}
    },
    {
      "cell_type": "markdown",
      "source": "1.1 - Tipos de Matrizes",
      "metadata": {}
    },
    {
      "cell_type": "markdown",
      "source": "As matrizes são definidas da seguinte forma:",
      "metadata": {}
    },
    {
      "cell_type": "markdown",
      "source": "A) **Matriz retangular**  - $m$ e $n$ são diferentes ou seja, uma matriz que possui mais linhas do que colunas\nou o inverso.",
      "metadata": {}
    },
    {
      "cell_type": "markdown",
      "source": "Exemplo 1.1\n\n$$\n\\begin{bmatrix}\n1 & 2 & 3\\\\\n4 & 5 & 6\n\\end{bmatrix}_{2x3}\n$$",
      "metadata": {}
    },
    {
      "cell_type": "markdown",
      "source": "Exemplo 1.2\n\n$$\n\\begin{bmatrix}\n1 & 2 \\\\\n4 & 5 \\\\\n7 & 8\n\\end{bmatrix}_{3x2}\n$$",
      "metadata": {}
    },
    {
      "cell_type": "code",
      "source": "# Representação no Python - Utilizando o módulo numpy",
      "metadata": {},
      "execution_count": null,
      "outputs": []
    },
    {
      "cell_type": "code",
      "source": "exemplo1 = np.array([[1,2,3],[4,5,6]])\nprint(exemplo1)",
      "metadata": {
        "trusted": true
      },
      "execution_count": 9,
      "outputs": [
        {
          "name": "stdout",
          "text": "[[1 2 3]\n [4 5 6]]\n",
          "output_type": "stream"
        }
      ]
    },
    {
      "cell_type": "markdown",
      "source": "No módulo numpy, perceba que a matriz é representada como entre cochetes. No numpy, o tipo de dado é definido\ncomo um **array**, e a matriz propriamente dita é um conjunto de arrays.",
      "metadata": {}
    },
    {
      "cell_type": "markdown",
      "source": "arranjo = np.array([MATRIZ])\n\nDentro de matriz as linhas são representads por entre cochetes também e separadas por vírgulas\n\n[[linha 1],[linha 2],[linha 3], ...]",
      "metadata": {}
    },
    {
      "cell_type": "code",
      "source": "print(type(exemplo1))",
      "metadata": {
        "trusted": true
      },
      "execution_count": 7,
      "outputs": [
        {
          "name": "stdout",
          "text": "<class 'numpy.ndarray'>\n",
          "output_type": "stream"
        }
      ]
    },
    {
      "cell_type": "code",
      "source": "exemplo2 = np.array([[1,2],[4,5],[7,8]])\nprint(exemplo2)",
      "metadata": {
        "trusted": true
      },
      "execution_count": 8,
      "outputs": [
        {
          "name": "stdout",
          "text": "[[1 2]\n [4 5]\n [7 8]]\n",
          "output_type": "stream"
        }
      ]
    },
    {
      "cell_type": "markdown",
      "source": "B) **Matriz Linha e Coluna** - Como o nome já diz, são matrizes que um dos coeficientes de linha ou coluna é 1, ou seja, só existe\numa única dimensão",
      "metadata": {}
    },
    {
      "cell_type": "markdown",
      "source": "Exemplo 1.3\n\n$$\n\\begin{bmatrix}\n1\\\\\n2\\\\\n3\\\\\n4\\\\\n\\vdots\\\\\na_{m 1}\n\\end{bmatrix}_{mx1}\n$$",
      "metadata": {}
    },
    {
      "cell_type": "markdown",
      "source": "Exemplo 1.4\n\n$$\n\\begin{bmatrix}\n1 & 2 & 3 & \\dots & a_{1n}\n\\end{bmatrix}_{1xn}\n$$",
      "metadata": {}
    },
    {
      "cell_type": "code",
      "source": "exemplo3 = np.array([[1],[2],[3]])\nprint(exemplo3)",
      "metadata": {
        "trusted": true
      },
      "execution_count": 11,
      "outputs": [
        {
          "name": "stdout",
          "text": "[[1]\n [2]\n [3]]\n",
          "output_type": "stream"
        }
      ]
    },
    {
      "cell_type": "code",
      "source": "exemplo4 = np.array([1,2,3,4])\nprint(exemplo4)",
      "metadata": {
        "trusted": true
      },
      "execution_count": 14,
      "outputs": [
        {
          "name": "stdout",
          "text": "[1 2 3 4]\n",
          "output_type": "stream"
        }
      ]
    },
    {
      "cell_type": "markdown",
      "source": "Perceba que a matriz linha é similar a lista que é um formato padrão do Python. É possivel\nconverter uma lista no Python para um arranjo/matriz linha da seguinte forma:",
      "metadata": {}
    },
    {
      "cell_type": "code",
      "source": "lista = [1,2,3]\nlinha = np.array(lista)",
      "metadata": {
        "trusted": true
      },
      "execution_count": 15,
      "outputs": []
    },
    {
      "cell_type": "markdown",
      "source": "O Módulo numpy interpreta como sendo um arranjo unidimensional e armazena no tipo\narray.",
      "metadata": {}
    },
    {
      "cell_type": "code",
      "source": "print(linha)",
      "metadata": {
        "trusted": true
      },
      "execution_count": 17,
      "outputs": [
        {
          "name": "stdout",
          "text": "[1 2 3]\n",
          "output_type": "stream"
        }
      ]
    },
    {
      "cell_type": "markdown",
      "source": "B) **Matriz Quadrada** - São as matrizes que o número de linhas é igual ao de colunas ou seja,\n$m = n$",
      "metadata": {}
    },
    {
      "cell_type": "markdown",
      "source": "Exemplo 1.5\n\n$$\n\\begin{bmatrix}\n1 & 2 & 3\\\\\n4 & 5 & 6\\\\\n6 & 7 & 8\n\\end{bmatrix}_{3x3}\n$$",
      "metadata": {}
    },
    {
      "cell_type": "code",
      "source": "exemplo5 = np.array([[1,2,3],[4,5,6],[7,8,9]])\nprint(exemplo5)",
      "metadata": {
        "trusted": true
      },
      "execution_count": 18,
      "outputs": [
        {
          "name": "stdout",
          "text": "[[1 2 3]\n [4 5 6]\n [7 8 9]]\n",
          "output_type": "stream"
        }
      ]
    },
    {
      "cell_type": "code",
      "source": "",
      "metadata": {},
      "execution_count": null,
      "outputs": []
    }
  ]
}